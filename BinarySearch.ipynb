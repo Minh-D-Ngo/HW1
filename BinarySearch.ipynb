{
 "cells": [
  {
   "cell_type": "code",
   "execution_count": 1,
   "id": "2c5f46ae",
   "metadata": {},
   "outputs": [],
   "source": [
    "import time\n",
    "import random\n",
    "import matplotlib.pyplot as plt\n",
    "import numpy as np "
   ]
  },
  {
   "cell_type": "code",
   "execution_count": null,
   "id": "0752649f",
   "metadata": {},
   "outputs": [],
   "source": [
    "def binary_search(arr, left, right, value):\n",
    "    if left > right:\n",
    "        # If the element is not in the array, return -1\n",
    "        return -1\n",
    "\n",
    "    mid = left + (right - left) // 2  # middle index rounded down\n",
    "        \n",
    "    # If the value is at the middle itself, return the index\n",
    "    if arr[mid] == value:\n",
    "            return mid\n",
    "        \n",
    "    # If the value is bigger change, the index so the right index moves 1\n",
    "    # step left to the current midpoint \n",
    "    elif arr[mid] > value:\n",
    "        return binary_search(arr, left, mid - 1, value)\n",
    "        \n",
    "    # If the value is smaller, change the index so the left index moves 1\n",
    "    # step right to the current midpoint \n",
    "    else:\n",
    "        return binary_search(arr, mid + 1, right, value)"
   ]
  }
 ],
 "metadata": {
  "kernelspec": {
   "display_name": "Python 3 (ipykernel)",
   "language": "python",
   "name": "python3"
  },
  "language_info": {
   "codemirror_mode": {
    "name": "ipython",
    "version": 3
   },
   "file_extension": ".py",
   "mimetype": "text/x-python",
   "name": "python",
   "nbconvert_exporter": "python",
   "pygments_lexer": "ipython3",
   "version": "3.11.4"
  }
 },
 "nbformat": 4,
 "nbformat_minor": 5
}
